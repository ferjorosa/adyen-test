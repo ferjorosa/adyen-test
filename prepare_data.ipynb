{
 "cells": [
  {
   "metadata": {},
   "cell_type": "markdown",
   "source": [
    "# Purpose\n",
    "\n",
    "The following notebook is just a subset of the notebook provided by the evaluators to download the data and store it as a Parquet file for easier work"
   ],
   "id": "54d1632903556dc2"
  },
  {
   "metadata": {},
   "cell_type": "markdown",
   "source": "## Load data",
   "id": "cef6ed8f7c4b5402"
  },
  {
   "metadata": {
    "ExecuteTime": {
     "end_time": "2024-10-13T18:07:43.932825Z",
     "start_time": "2024-10-13T18:07:43.926574Z"
    }
   },
   "cell_type": "code",
   "source": [
    "from datasets import load_dataset\n",
    "from pathlib import Path\n",
    "\n",
    "import pandas as pd"
   ],
   "id": "8f6ca2b407637393",
   "outputs": [],
   "execution_count": 15
  },
  {
   "cell_type": "code",
   "id": "initial_id",
   "metadata": {
    "collapsed": true,
    "ExecuteTime": {
     "end_time": "2024-10-13T17:46:58.398206Z",
     "start_time": "2024-10-13T17:44:40.697375Z"
    }
   },
   "source": "dataset = load_dataset(\"McAuley-Lab/Amazon-Reviews-2023\", \"raw_review_Baby_Products\", trust_remote_code=True, split=\"full[50%:52%]\")",
   "outputs": [
    {
     "name": "stderr",
     "output_type": "stream",
     "text": [
      "/Users/fernando/Documents/GitHub/adyen-test/.venv/lib/python3.10/site-packages/tqdm/auto.py:21: TqdmWarning: IProgress not found. Please update jupyter and ipywidgets. See https://ipywidgets.readthedocs.io/en/stable/user_install.html\n",
      "  from .autonotebook import tqdm as notebook_tqdm\n",
      "Generating full split: 6028884 examples [00:41, 145547.94 examples/s]\n"
     ]
    }
   ],
   "execution_count": 1
  },
  {
   "metadata": {
    "ExecuteTime": {
     "end_time": "2024-10-13T17:51:47.253837Z",
     "start_time": "2024-10-13T17:51:43.870266Z"
    }
   },
   "cell_type": "code",
   "source": "parent_asin = set([rewview_data['parent_asin'] for rewview_data in dataset])",
   "id": "3580cf3c8196e6e8",
   "outputs": [],
   "execution_count": 2
  },
  {
   "metadata": {
    "ExecuteTime": {
     "end_time": "2024-10-13T17:52:23.667960Z",
     "start_time": "2024-10-13T17:51:47.682026Z"
    }
   },
   "cell_type": "code",
   "source": "meta_baby_products = load_dataset(\"McAuley-Lab/Amazon-Reviews-2023\", \"raw_meta_Baby_Products\", split=\"full\", trust_remote_code=True)",
   "id": "56c8911e10f40588",
   "outputs": [
    {
     "name": "stderr",
     "output_type": "stream",
     "text": [
      "Generating full split: 217724 examples [00:22, 9535.23 examples/s] \n"
     ]
    }
   ],
   "execution_count": 3
  },
  {
   "metadata": {
    "ExecuteTime": {
     "end_time": "2024-10-13T17:56:23.701081Z",
     "start_time": "2024-10-13T17:56:08.193818Z"
    }
   },
   "cell_type": "code",
   "source": "meta_baby_products_with_reviews = [product for product in meta_baby_products if product['parent_asin'] in parent_asin]",
   "id": "ec4f9da45106cd85",
   "outputs": [],
   "execution_count": 5
  },
  {
   "metadata": {
    "ExecuteTime": {
     "end_time": "2024-10-13T17:56:23.708887Z",
     "start_time": "2024-10-13T17:56:23.705037Z"
    }
   },
   "cell_type": "code",
   "source": "len(meta_baby_products_with_reviews)",
   "id": "7f251bdfc7a1559b",
   "outputs": [
    {
     "data": {
      "text/plain": [
       "36825"
      ]
     },
     "execution_count": 6,
     "metadata": {},
     "output_type": "execute_result"
    }
   ],
   "execution_count": 6
  },
  {
   "metadata": {},
   "cell_type": "markdown",
   "source": "------",
   "id": "59b917f2c159e16d"
  },
  {
   "metadata": {},
   "cell_type": "markdown",
   "source": "# Task and data",
   "id": "312d8897191f15e0"
  },
  {
   "metadata": {},
   "cell_type": "markdown",
   "source": [
    " # Purpose\n",
    " \n",
    "We are offered the opportunity to choose from the following tasks:\n",
    "\n",
    "1. **Categorization of Unlabeled Products**: There are 1,257 products that lack assigned categories, corresponding to the `categories` field in the raw meta dataset.  \n",
    "   - While this option holds potential business value, the provided model is not \"efficient\" for this task, as it is a decoder-only transformer.\n",
    "\n",
    "2. **Enhancement of Product Taxonomy**: We could utilize the LLM to generate alternative categorizations.  \n",
    "   - From a business perspective, this option appears less appealing, even though the model is suitable for text generation tasks.\n",
    "\n",
    "3. **Sentiment Analysis and Product Reporting**: Using all products with more than 50 reviews in the dataset, we can generate a report for each product that, beyond review scores, reflects sentiment by highlighting the following information: safety issues, most and least appreciated features, price sentiment, etc.  \n",
    "   - I find this option particularly interesting for two main reasons:\n",
    "     1. **Business Value**: Providing feedback to retailers could be extremely beneficial. If the service is effective, they would likely pay for it, similar to the \"insights\" services currently offered by Amazon for advertisements. Ultimately, retailers aim to increase sales by enhancing visibility on their pages and by improving their products to meet customer preferences.\n",
    "     2. **Model Suitability**: For this specific task, we have access to the Mistral 7B model, a decoder-only transformer specialized for text generation and understanding. For the first task, we could consider using encoder-only transformers, such as DistilBERT for fast text classification or FLAVA, both of which we would need to fine-tune."
   ],
   "id": "f30bc87fa604dd7a"
  },
  {
   "metadata": {},
   "cell_type": "markdown",
   "source": "### Transform the datasets into Pandas dataframes",
   "id": "8df35ba7a4f3211"
  },
  {
   "metadata": {
    "ExecuteTime": {
     "end_time": "2024-10-13T18:28:42.298472Z",
     "start_time": "2024-10-13T18:28:38.519975Z"
    }
   },
   "cell_type": "code",
   "source": [
    "df_products = pd.DataFrame(meta_baby_products_with_reviews)\n",
    "df_reviews = pd.DataFrame(dataset)"
   ],
   "id": "5ca13fae775177af",
   "outputs": [],
   "execution_count": 25
  },
  {
   "metadata": {},
   "cell_type": "markdown",
   "source": [
    "### Filter the relevant columns\n",
    "\n",
    "I have selected those columns that may be interesting for the task at hand. Further research could mean we end up using more than this (time is limited)\n",
    "\n"
   ],
   "id": "e11a0b4f3678e08"
  },
  {
   "metadata": {
    "ExecuteTime": {
     "end_time": "2024-10-13T18:31:15.398127Z",
     "start_time": "2024-10-13T18:31:15.287847Z"
    }
   },
   "cell_type": "code",
   "source": [
    "df_reviews_filtered = df_reviews[\n",
    "    [\n",
    "        \"parent_asin\", # ID\n",
    "        \"title\",\n",
    "        \"text\",\n",
    "        \"verified_purchase\"\n",
    "    ]\n",
    "]\n",
    "\n",
    "df_products_filtered = df_products[\n",
    "    [\n",
    "        \"parent_asin\", # ID\n",
    "        \"main_category\",\n",
    "        \"title\",\n",
    "        \"average_rating\",\n",
    "        \"rating_number\", # te dice cuantos ratings ha tenido el producto\n",
    "        \"details\", # caracteristicas especificas del producto\n",
    "        \"features\", # lista de caracteristicas del producto a modo de taxonomia\n",
    "    ]\n",
    "]"
   ],
   "id": "7cd3034756539045",
   "outputs": [],
   "execution_count": 28
  },
  {
   "metadata": {},
   "cell_type": "markdown",
   "source": "### Products with > 50 reviews",
   "id": "5ca232ebb61711d4"
  },
  {
   "metadata": {
    "ExecuteTime": {
     "end_time": "2024-10-13T18:36:47.718955Z",
     "start_time": "2024-10-13T18:36:47.663605Z"
    }
   },
   "cell_type": "code",
   "source": [
    "# Step 1: Count the number of reviews for each parent_asin\n",
    "review_counts = df_reviews_filtered['parent_asin'].value_counts()\n",
    "\n",
    "# Step 2: Filter parent_asin with more than 50 reviews\n",
    "valid_asins = review_counts[review_counts > 50].index\n",
    "\n",
    "# Step 3: Filter df_products_filtered to keep only those products\n",
    "df_products_filtered_50_reviews = df_products_filtered[df_products_filtered['parent_asin'].isin(valid_asins)]"
   ],
   "id": "ada51d1ce001dd2",
   "outputs": [],
   "execution_count": 37
  },
  {
   "metadata": {
    "ExecuteTime": {
     "end_time": "2024-10-13T18:36:59.866965Z",
     "start_time": "2024-10-13T18:36:59.863383Z"
    }
   },
   "cell_type": "code",
   "source": [
    "print(df_products_filtered.shape)\n",
    "print(df_products_filtered_50_reviews.shape)"
   ],
   "id": "731b7edc7ee335c9",
   "outputs": [
    {
     "name": "stdout",
     "output_type": "stream",
     "text": [
      "(36825, 7)\n",
      "(192, 7)\n"
     ]
    }
   ],
   "execution_count": 38
  },
  {
   "metadata": {},
   "cell_type": "markdown",
   "source": "We go from 36k products to 192",
   "id": "233f5ef9adf05935"
  },
  {
   "metadata": {},
   "cell_type": "markdown",
   "source": "### Get only reviews of the selected products",
   "id": "b12bd26c03423e26"
  },
  {
   "metadata": {
    "ExecuteTime": {
     "end_time": "2024-10-13T18:37:24.398962Z",
     "start_time": "2024-10-13T18:37:24.360522Z"
    }
   },
   "cell_type": "code",
   "source": [
    "# Step 1: Get the parent_asin values from df_products_filtered_filtered\n",
    "valid_asins = df_products_filtered_50_reviews['parent_asin'].unique()\n",
    "\n",
    "# Step 2: Filter df_reviews_filtered to keep only reviews from those products\n",
    "df_reviews_filtered_50_reviews = df_reviews_filtered[df_reviews_filtered['parent_asin'].isin(valid_asins)]"
   ],
   "id": "c859953ea49eb4f0",
   "outputs": [],
   "execution_count": 39
  },
  {
   "metadata": {},
   "cell_type": "markdown",
   "source": "",
   "id": "db16a0e8348193a7"
  },
  {
   "metadata": {
    "ExecuteTime": {
     "end_time": "2024-10-13T18:37:32.964721Z",
     "start_time": "2024-10-13T18:37:32.961631Z"
    }
   },
   "cell_type": "code",
   "source": [
    "print(df_reviews_filtered.shape)\n",
    "print(df_reviews_filtered_50_reviews.shape)"
   ],
   "id": "b796a28529324e2b",
   "outputs": [
    {
     "name": "stdout",
     "output_type": "stream",
     "text": [
      "(120578, 4)\n",
      "(20259, 4)\n"
     ]
    }
   ],
   "execution_count": 40
  },
  {
   "metadata": {},
   "cell_type": "markdown",
   "source": "By selecting the reviews from only those products that have more than 50 reviews, we reduce the total number of reviews to be considered from 120k to 20k",
   "id": "53db56b1713f3524"
  },
  {
   "metadata": {},
   "cell_type": "markdown",
   "source": "### Save data",
   "id": "c01e75801c5f9d6"
  },
  {
   "metadata": {
    "ExecuteTime": {
     "end_time": "2024-10-13T18:42:04.894078Z",
     "start_time": "2024-10-13T18:42:04.494302Z"
    }
   },
   "cell_type": "code",
   "source": [
    "def save_dataframe_to_parquet(df, file_name, directory):\n",
    "    parquet_file_path = directory / f\"{file_name}.parquet\"\n",
    "    df.to_parquet(parquet_file_path)\n",
    "    print(f\"DataFrame '{file_name}' saved to {parquet_file_path}\")\n",
    " \n",
    "# Create the directory if it does not exist   \n",
    "data_dir = Path('data')\n",
    "data_dir.mkdir(parents=True, exist_ok=True)\n",
    "\n",
    "# Save each DataFrame individually\n",
    "save_dataframe_to_parquet(df_products_filtered, 'df_products_filtered', data_dir)\n",
    "save_dataframe_to_parquet(df_products_filtered_50_reviews, 'df_products_filtered_50_reviews', data_dir)\n",
    "save_dataframe_to_parquet(df_reviews_filtered, 'df_reviews_filtered', data_dir)\n",
    "save_dataframe_to_parquet(df_reviews_filtered_50_reviews, 'df_reviews_filtered_50_reviews', data_dir)"
   ],
   "id": "9cf206324a8c3a8b",
   "outputs": [
    {
     "name": "stdout",
     "output_type": "stream",
     "text": [
      "DataFrame 'df_products_filtered' saved to data/df_products_filtered.parquet\n",
      "DataFrame 'df_products_filtered_50_reviews' saved to data/df_products_filtered_50_reviews.parquet\n",
      "DataFrame 'df_reviews_filtered' saved to data/df_reviews_filtered.parquet\n",
      "DataFrame 'df_reviews_filtered_50_reviews' saved to data/df_reviews_filtered_50_reviews.parquet\n"
     ]
    }
   ],
   "execution_count": 42
  }
 ],
 "metadata": {
  "kernelspec": {
   "display_name": "Python 3",
   "language": "python",
   "name": "python3"
  },
  "language_info": {
   "codemirror_mode": {
    "name": "ipython",
    "version": 2
   },
   "file_extension": ".py",
   "mimetype": "text/x-python",
   "name": "python",
   "nbconvert_exporter": "python",
   "pygments_lexer": "ipython2",
   "version": "2.7.6"
  }
 },
 "nbformat": 4,
 "nbformat_minor": 5
}
