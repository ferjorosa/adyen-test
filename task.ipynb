{
 "cells": [
  {
   "metadata": {},
   "cell_type": "markdown",
   "source": [
    " # Task\n",
    " \n",
    "We are offered the opportunity to choose from the following tasks:\n",
    "\n",
    "1. **Categorization of Unlabeled Products**: There are 1,257 products that lack assigned categories, corresponding to the `categories` field in the raw meta dataset.  \n",
    "   - While this option holds potential business value, the provided model is not \"efficient\" for this task, as it is a decoder-only transformer.\n",
    "   - We could consider using encoder-only transformers such as [DistilBERT](https://huggingface.co/docs/transformers/model_doc/distilbert) for fast text classification or FLAVA, which is an vision-language encoder model. So, we could use both images and text for classification. Both models would require to fine-tune. For an MVP we could also use API models like GPT-4o and Claude-3.5 (there are even more) if we want to explore a vision-language approach, even if they are decoder models.\n",
    "\n",
    "2. **Enhancement of Product Taxonomy**: We could utilize the LLM to generate alternative categorizations.  \n",
    "   - From a business perspective, this option appears less appealing, even though the model is suitable for text generation tasks.\n",
    "\n",
    "3. **Sentiment Analysis and Product Reporting**: Using all products with more than 50 reviews in the dataset, we can generate a report for each product that, beyond review scores, reflects sentiment by highlighting the following information: safety issues, most and least appreciated features, price sentiment, etc.  \n",
    "   - I find this option particularly interesting for two main reasons:\n",
    "     1. **Business Value**: Providing feedback to retailers could be extremely beneficial. If the service is effective, they would likely pay for it, similar to the \"insights\" services currently offered by Amazon for advertisements. Ultimately, retailers aim to increase sales by enhancing visibility on their pages and by improving their products to meet customer preferences.\n",
    "     2. **Model Suitability**: For this specific task, we have access to the Mistral 7B model, a decoder-only transformer specialized for text generation and understanding. \n",
    "\n"
   ],
   "id": "9dce91b65d713ab4"
  },
  {
   "metadata": {
    "ExecuteTime": {
     "end_time": "2024-10-13T20:04:53.646303Z",
     "start_time": "2024-10-13T20:04:53.639407Z"
    }
   },
   "cell_type": "code",
   "source": [
    "import pandas as pd\n",
    "import yaml\n",
    "from pathlib import Path\n",
    "import matplotlib.pyplot as plt\n",
    "import os\n",
    "from getpass import getpass\n",
    "from langchain_huggingface import HuggingFaceEndpoint\n",
    "from langchain.prompts import PromptTemplate\n",
    "from langchain_core.output_parsers import JsonOutputParser, StrOutputParser\n",
    "\n",
    "from pydantic_models.review_analysis import ReviewAnalysis\n",
    "\n",
    "data_dir = Path('data')"
   ],
   "id": "86c679a9ecadf8f4",
   "outputs": [],
   "execution_count": 48
  },
  {
   "metadata": {},
   "cell_type": "code",
   "outputs": [],
   "execution_count": null,
   "source": [
    "df_products = pd.read_parquet(data_dir / \"df_products_filtered_50_reviews.parquet\")\n",
    "df_reviews = pd.read_parquet(data_dir / \"df_reviews_filtered_50_reviews.parquet\")"
   ],
   "id": "7225bb63c25b1409"
  },
  {
   "metadata": {},
   "cell_type": "markdown",
   "source": [
    "# 1 - Briefly explore data\n",
    "\n",
    "We know there are 192 products with a total of ~20k reviews"
   ],
   "id": "dbac33f6b92de1ce"
  },
  {
   "metadata": {},
   "cell_type": "markdown",
   "source": "## 1.1 - Product categories",
   "id": "e5703a37442fd4ca"
  },
  {
   "metadata": {
    "ExecuteTime": {
     "end_time": "2024-10-13T19:00:30.197893Z",
     "start_time": "2024-10-13T19:00:30.193330Z"
    }
   },
   "cell_type": "code",
   "source": "df_products[\"main_category\"].value_counts()",
   "id": "1510964a757fe9f",
   "outputs": [
    {
     "data": {
      "text/plain": [
       "main_category\n",
       "Baby                        141\n",
       "Health & Personal Care       27\n",
       "Amazon Home                  11\n",
       "All Beauty                    4\n",
       "AMAZON FASHION                2\n",
       "Camera & Photo                2\n",
       "Automotive                    2\n",
       "Toys & Games                  1\n",
       "Tools & Home Improvement      1\n",
       "Sports & Outdoors             1\n",
       "Name: count, dtype: int64"
      ]
     },
     "execution_count": 23,
     "metadata": {},
     "output_type": "execute_result"
    }
   ],
   "execution_count": 23
  },
  {
   "metadata": {},
   "cell_type": "markdown",
   "source": "Theoretically, our primary focus is on baby products. However, I’ve observed other categories that even though they have a \"strange name\", seem to be relevant, even if their `main_category` values are somewhat unconventional. I don't think it's necessary to filter these out because my approach will be \"inference-only\" (meaning I won't be fine-tuning a model here). Furthermore, these categories do not appear to introduce any noise into the analysis. If I were dealing with a more critical issue or had more time, I might consider filtering them.",
   "id": "8a73153d7934ea68"
  },
  {
   "metadata": {
    "ExecuteTime": {
     "end_time": "2024-10-13T19:02:35.599496Z",
     "start_time": "2024-10-13T19:02:35.587365Z"
    }
   },
   "cell_type": "code",
   "source": [
    "# df_products[df_products[\"main_category\"]!= \"Baby\"]\n",
    "df_products[df_products[\"main_category\"] == \"Tools & Home Improvement\"]"
   ],
   "id": "e519326641483930",
   "outputs": [
    {
     "data": {
      "text/plain": [
       "      parent_asin             main_category  \\\n",
       "12465  B0B5F7WLL8  Tools & Home Improvement   \n",
       "\n",
       "                                                   title  average_rating  \\\n",
       "12465  ChoiceRefill Diaper Pail Refills - Compatible ...             4.7   \n",
       "\n",
       "       rating_number                                            details  \\\n",
       "12465           8983  {\"Manufacturer\": \"Haoyunbao\", \"Part Number\": \"...   \n",
       "\n",
       "      features  \n",
       "12465       []  "
      ],
      "text/html": [
       "<div>\n",
       "<style scoped>\n",
       "    .dataframe tbody tr th:only-of-type {\n",
       "        vertical-align: middle;\n",
       "    }\n",
       "\n",
       "    .dataframe tbody tr th {\n",
       "        vertical-align: top;\n",
       "    }\n",
       "\n",
       "    .dataframe thead th {\n",
       "        text-align: right;\n",
       "    }\n",
       "</style>\n",
       "<table border=\"1\" class=\"dataframe\">\n",
       "  <thead>\n",
       "    <tr style=\"text-align: right;\">\n",
       "      <th></th>\n",
       "      <th>parent_asin</th>\n",
       "      <th>main_category</th>\n",
       "      <th>title</th>\n",
       "      <th>average_rating</th>\n",
       "      <th>rating_number</th>\n",
       "      <th>details</th>\n",
       "      <th>features</th>\n",
       "    </tr>\n",
       "  </thead>\n",
       "  <tbody>\n",
       "    <tr>\n",
       "      <th>12465</th>\n",
       "      <td>B0B5F7WLL8</td>\n",
       "      <td>Tools &amp; Home Improvement</td>\n",
       "      <td>ChoiceRefill Diaper Pail Refills - Compatible ...</td>\n",
       "      <td>4.7</td>\n",
       "      <td>8983</td>\n",
       "      <td>{\"Manufacturer\": \"Haoyunbao\", \"Part Number\": \"...</td>\n",
       "      <td>[]</td>\n",
       "    </tr>\n",
       "  </tbody>\n",
       "</table>\n",
       "</div>"
      ]
     },
     "execution_count": 25,
     "metadata": {},
     "output_type": "execute_result"
    }
   ],
   "execution_count": 25
  },
  {
   "metadata": {},
   "cell_type": "markdown",
   "source": "## 1.2 - Number of reviews per product",
   "id": "b64d6818d434a9bd"
  },
  {
   "metadata": {
    "ExecuteTime": {
     "end_time": "2024-10-13T18:45:56.955714Z",
     "start_time": "2024-10-13T18:45:56.945569Z"
    }
   },
   "cell_type": "code",
   "source": "df_reviews[\"parent_asin\"].value_counts()",
   "id": "128bfa6fc23e7eb4",
   "outputs": [
    {
     "data": {
      "text/plain": [
       "parent_asin\n",
       "B0BJKYW5T7    555\n",
       "B08K41XMBJ    510\n",
       "B0BRY4L35M    433\n",
       "B00ECHYTBI    425\n",
       "B09VNZKJMY    417\n",
       "             ... \n",
       "B00A4B34IA     51\n",
       "B07317NQKW     51\n",
       "B0BV4S59QV     51\n",
       "B077TPC9Y7     51\n",
       "B0BY8YWJWG     51\n",
       "Name: count, Length: 192, dtype: int64"
      ]
     },
     "execution_count": 11,
     "metadata": {},
     "output_type": "execute_result"
    }
   ],
   "execution_count": 11
  },
  {
   "metadata": {},
   "cell_type": "markdown",
   "source": "I can see that the majority of products have between 50 and 100 reviews. It may be enough for this exercise, but would need to explore it more. In addition, we *may not need* that many reviews as 500, as in a series of top products. We could probably try to find \"different\" reviews to get different perspectives of the data and extract more value.",
   "id": "ded84c4eedbfcbaf"
  },
  {
   "metadata": {
    "ExecuteTime": {
     "end_time": "2024-10-13T18:53:18.689815Z",
     "start_time": "2024-10-13T18:53:18.592888Z"
    }
   },
   "cell_type": "code",
   "source": [
    "# Step 1: Calculate the counts of parent_asin\n",
    "count_series = df_reviews['parent_asin'].value_counts()\n",
    "\n",
    "# Step 2: Define bins for counts\n",
    "bins = list(range(50, 601, 50))  # Create bins from 50 to 600 with a step of 50\n",
    "\n",
    "# Step 3: Use pd.cut to categorize counts into bins\n",
    "count_categories = pd.cut(count_series, bins, right=False)\n",
    "\n",
    "# Count how many parent_asin fall into each bin\n",
    "count_bins = count_categories.value_counts(sort=False)\n",
    "\n",
    "# Step 4: Calculate percentages\n",
    "percentage_bins = (count_bins / count_bins.sum()) * 100  # Convert to percentage\n",
    "\n",
    "# Step 5: Plotting the results\n",
    "plt.figure(figsize=(10, 6))\n",
    "percentage_bins.plot(kind='bar', color='skyblue')\n",
    "plt.title('Percentage Distribution of Parent ASIN Counts')\n",
    "plt.xlabel('Count Ranges (50-100, 100-150, etc.)')\n",
    "plt.ylabel('Percentage of Parent ASINs (%)')\n",
    "plt.xticks(rotation=45)\n",
    "plt.grid(axis='y', linestyle='--', alpha=0.7)\n",
    "plt.show()"
   ],
   "id": "81ce305802cb6675",
   "outputs": [
    {
     "data": {
      "text/plain": [
       "<Figure size 1000x600 with 1 Axes>"
      ],
      "image/png": "[encoded data removed]"
     },
     "metadata": {},
     "output_type": "display_data"
    }
   ],
   "execution_count": 20
  },
  {
   "metadata": {},
   "cell_type": "markdown",
   "source": "",
   "id": "6aa1dcc8079dda4e"
  },
  {
   "metadata": {},
   "cell_type": "markdown",
   "source": [
    "## 1.3 - Verified purchases\n",
    "\n",
    "Not all of the reviews are verified purchases. For me, I would either drop those reviews that are not verified (a bit late now for this time-constrained task) or asign them less weight during summarization / pattern matching\n",
    "\n",
    "I dont have much time, so I am going to ignore this unless I finish fast"
   ],
   "id": "935fa27e45721d0c"
  },
  {
   "metadata": {
    "ExecuteTime": {
     "end_time": "2024-10-13T19:23:36.375052Z",
     "start_time": "2024-10-13T19:23:36.363465Z"
    }
   },
   "cell_type": "code",
   "source": "df_reviews[\"verified_purchase\"].value_counts()",
   "id": "9b81a453704270ef",
   "outputs": [
    {
     "data": {
      "text/plain": [
       "verified_purchase\n",
       "True     18475\n",
       "False     1784\n",
       "Name: count, dtype: int64"
      ]
     },
     "execution_count": 36,
     "metadata": {},
     "output_type": "execute_result"
    }
   ],
   "execution_count": 36
  },
  {
   "metadata": {},
   "cell_type": "markdown",
   "source": [
    "# 2 - Extract insights task\n",
    "\n",
    "Our objective is to extract insights from these reviews so that we can provide value to Amazon sellers. There are different perspectives or aspects we could search for (especially considering we are going to focus on a specific category of products, i.e., Baby). \n",
    "\n",
    "If time allows, I will ask for ideas to GPT-4 and Claude\n",
    "\n",
    "To start, we are going to focus on the following subtasks:\n",
    "\n",
    "* `Bool`: Understand if there are safety issues (especially important since we are dealing with children's products). If True, explain which ones\n",
    "* `List[str]`: What are the most appreciated features (if any)\n",
    "* `List[str]`: What are the least appreciated features (if any)\n",
    "* `Bool`: Is price ok?. Provide explanation\n",
    "* `Bool`: Was shipping ok?. Provide explanation\n",
    "* `Bool`: Was returned? If so, provide explanation why and if present, how well was the process\n",
    "* `Bool`: Are there mentions of competing products? If so, which ones and what do clients say about them\n",
    "    * Note: This could be complicated without proper context\n",
    "\n",
    "Once we have categorized reviews this way, we could then summarize the main points and \n",
    "\n",
    "----\n",
    "\n",
    "Notes: \n",
    "\n",
    "> **Langfuse:** I would use a `callback_handler` with [Langfuse](https://langfuse.com/) or a similar service to be able to take a look at the traces\n",
    " \n",
    "\n",
    "> **Model:** I am not sure Mistral-7B is the best model for this task / my approach. It is a small model for complex reasoning task and as you will see below, I am going to ask it to do multiple things at the same time. If I had more time, I would benchmark it. Benchmark is complicated with LLMs in \"complex\" tasks as this one, I would probably do some human evaluation first comparing different models. Ideally I would like to have a deterministic metric for model comparison. If not, I can align a Judge LLM to my preferences and iterate with that.\n",
    "\n",
    "-----"
   ],
   "id": "4ea2b66f959cd16c"
  },
  {
   "metadata": {},
   "cell_type": "markdown",
   "source": "### Load the LLM",
   "id": "58c0c088047c5ed4"
  },
  {
   "metadata": {
    "ExecuteTime": {
     "end_time": "2024-10-13T19:08:31.302973Z",
     "start_time": "2024-10-13T19:08:22.178133Z"
    }
   },
   "cell_type": "code",
   "source": [
    "HUGGINGFACEHUB_API_TOKEN = getpass()\n",
    "os.environ[\"HUGGINGFACEHUB_API_TOKEN\"] = HUGGINGFACEHUB_API_TOKEN"
   ],
   "id": "f55d47559723f0af",
   "outputs": [],
   "execution_count": 28
  },
  {
   "metadata": {
    "ExecuteTime": {
     "end_time": "2024-10-13T19:21:05.541800Z",
     "start_time": "2024-10-13T19:21:05.361462Z"
    }
   },
   "cell_type": "code",
   "source": [
    "repo_id = \"mistralai/Mistral-7B-Instruct-v0.3\"\n",
    "\n",
    "llm = HuggingFaceEndpoint(\n",
    "    repo_id=repo_id,\n",
    "    max_length=128,\n",
    "    temperature=0.5,\n",
    "    huggingfacehub_api_token=HUGGINGFACEHUB_API_TOKEN,\n",
    ")"
   ],
   "id": "5bced4c23c293d0a",
   "outputs": [
    {
     "name": "stderr",
     "output_type": "stream",
     "text": [
      "WARNING! max_length is not default parameter.\n",
      "                    max_length was transferred to model_kwargs.\n",
      "                    Please make sure that max_length is what you intended.\n"
     ]
    },
    {
     "name": "stdout",
     "output_type": "stream",
     "text": [
      "The token has not been saved to the git credentials helper. Pass `add_to_git_credential=True` in this function directly or `--add-to-git-credential` if using via `huggingface-cli` if you want to set the git credential as well.\n",
      "Token is valid (permission: fineGrained).\n",
      "Your token has been saved to /Users/fernando/.cache/huggingface/token\n",
      "Login successful\n"
     ]
    }
   ],
   "execution_count": 32
  },
  {
   "metadata": {},
   "cell_type": "markdown",
   "source": [
    "### Prompts\n",
    "\n",
    "I will begin by defining a two-phase prompt to evaluate each of the points discussed previously. The phases are as follows:\n",
    "\n",
    "1. **Insight Generation**: In the first phase, I will use a prompt to ask the LLM to provide insights based on the subtasks defined earlier concerning the reviews.\n",
    "   \n",
    "2. **Formatting the Response**: In the second phase, I will instruct the LLM to format its answer according to a Pydantic model.\n",
    "\n",
    "This two-part approach is intentional, as several researchers have noted that requiring the LLM to deliver structured outputs directly can diminish the quality of the response. For further reading, see this article: [The Downsides of Structured Outputs](https://www.llmwatch.com/p/the-downsides-of-structured-outputs).\n",
    "\n",
    "By allowing the model some creative freedom initially, I can later guide it to present the information in a structured format. Additionally, we could utilize two different models, one for each task, to optimize the output.\n"
   ],
   "id": "95fdd7852276b12e"
  },
  {
   "metadata": {},
   "cell_type": "markdown",
   "source": "",
   "id": "ecaf2b82583128cb"
  },
  {
   "metadata": {
    "ExecuteTime": {
     "end_time": "2024-10-13T20:03:11.001619Z",
     "start_time": "2024-10-13T20:03:10.997765Z"
    }
   },
   "cell_type": "code",
   "source": [
    "def load_prompts():\n",
    "    \"\"\"Load prompts from a YAML file in the current working directory.\"\"\"\n",
    "    current_dir = os.getcwd()  # Get the current working directory in Jupyter\n",
    "    prompts_file = os.path.join(current_dir, \"prompts.yaml\")\n",
    "    with open(prompts_file) as file:\n",
    "        return yaml.safe_load(file)"
   ],
   "id": "ee245f47a3418ce8",
   "outputs": [],
   "execution_count": 43
  },
  {
   "metadata": {
    "ExecuteTime": {
     "end_time": "2024-10-13T20:03:12.258151Z",
     "start_time": "2024-10-13T20:03:12.253598Z"
    }
   },
   "cell_type": "code",
   "source": "prompts = load_prompts()",
   "id": "6a437e582e18c13e",
   "outputs": [],
   "execution_count": 44
  },
  {
   "metadata": {},
   "cell_type": "markdown",
   "source": [
    "### Create chains \n",
    "\n",
    "Notes: \n",
    "\n",
    "* **I would use different models for the insights task and for the formatting task.** The formatting task is quite \"easy\" for LLMs, while the first one can be complex. for instance, in other problems I usually use GPT-4o for the main task and GPT-4o-mini for simpler tasks like formatting. This is because GPT-4o-mini has very good performance 15x times cheaper.\n",
    "    * We could also have smaller, but fine-tuned models (just as an example)\n",
    "\n"
   ],
   "id": "19c13f194c8e32dc"
  },
  {
   "metadata": {
    "ExecuteTime": {
     "end_time": "2024-10-13T20:04:56.953063Z",
     "start_time": "2024-10-13T20:04:56.949164Z"
    }
   },
   "cell_type": "code",
   "source": [
    "extract_insights_parser = StrOutputParser()\n",
    "extract_insights_prompt_template = PromptTemplate.from_template(template=prompts[\"extract_insights\"])\n",
    "extract_insights_chain = extract_insights_prompt_template | llm | extract_insights_parser\n",
    "\n",
    "format_insights_parser = json_parser = JsonOutputParser(pydantic_object=ReviewAnalysis)\n",
    "format_insights_prompt_template = PromptTemplate.from_template(template=prompts[\"format_insights\"])\n",
    "format_insights_chain = format_insights_prompt_template | llm | format_insights_parser"
   ],
   "id": "47c49789d222b2dd",
   "outputs": [],
   "execution_count": 49
  },
  {
   "metadata": {},
   "cell_type": "markdown",
   "source": [
    "## 2.1 - Extract insights\n",
    "\n",
    "> I dont have much time so I am just going to showcase how it works with a single example"
   ],
   "id": "fb51cec948afb025"
  },
  {
   "metadata": {
    "ExecuteTime": {
     "end_time": "2024-10-13T20:07:06.226387Z",
     "start_time": "2024-10-13T20:07:06.221023Z"
    }
   },
   "cell_type": "code",
   "source": [
    "review = df_reviews.iloc[0]\n",
    "review"
   ],
   "id": "e010885c89aebbbe",
   "outputs": [
    {
     "data": {
      "text/plain": [
       "parent_asin                                                 B076BBRPYH\n",
       "title                                             Very disappointed...\n",
       "text                 I believe the brand's quality and value just l...\n",
       "verified_purchase                                                 True\n",
       "Name: 0, dtype: object"
      ]
     },
     "execution_count": 53,
     "metadata": {},
     "output_type": "execute_result"
    }
   ],
   "execution_count": 53
  },
  {
   "metadata": {
    "ExecuteTime": {
     "end_time": "2024-10-13T20:08:33.323025Z",
     "start_time": "2024-10-13T20:08:28.160109Z"
    }
   },
   "cell_type": "code",
   "source": [
    "extract_insights_data = {\n",
    "    \"amazon_review_title\": review[\"title\"],\n",
    "    \"amazon_review_text\": review[\"text\"],\n",
    "}\n",
    "review_llm_response = extract_insights_chain.invoke(\n",
    "    input=extract_insights_data\n",
    ")"
   ],
   "id": "6e6c2b2244c28348",
   "outputs": [],
   "execution_count": 56
  },
  {
   "metadata": {
    "ExecuteTime": {
     "end_time": "2024-10-13T20:08:57.341337Z",
     "start_time": "2024-10-13T20:08:57.335993Z"
    }
   },
   "cell_type": "code",
   "source": "print(review[\"text\"])",
   "id": "4aa0401eccc6f0b4",
   "outputs": [
    {
     "name": "stdout",
     "output_type": "stream",
     "text": [
      "I believe the brand's quality and value just like other seventh generation products, but I'm so disappointed about this diaper. My son's weight is within size 5 range, however the pee was leaked out of the diaper two times and I can't try anymore. Above all, it is too inconvenient that there is no detachable sticker on diaper even though it' a training diaper. I can't use scissors to take diaper out, thus it is such a nightmare that I have to undress all of his pants (actually 2 pants in winter in NY). I want a refund, but if it's too late, then I just want to return them without compensation. It's better to buy these to others who wants them.\n"
     ]
    }
   ],
   "execution_count": 59
  },
  {
   "metadata": {
    "ExecuteTime": {
     "end_time": "2024-10-13T20:08:41.768558Z",
     "start_time": "2024-10-13T20:08:41.765487Z"
    }
   },
   "cell_type": "code",
   "source": "print(review_llm_response)",
   "id": "ce1ffeabaca97ff",
   "outputs": [
    {
     "name": "stdout",
     "output_type": "stream",
     "text": [
      "\n",
      "1. **Safety Issues (Bool)**: True. The review mentions a safety issue related to the diaper's ability to contain urine, which is a critical safety concern for diapers.\n",
      "2. **Most Appreciated Features (List[str])**:\n",
      "   - Quality: The reviewer mentions that they believe the brand's quality is good, similar to other Seventh Generation products.\n",
      "3. **Least Appreciated Features (List[str])**:\n",
      "   - Leakage: The reviewer criticizes the diaper for leaking, which is a significant concern for diaper products.\n",
      "   - Convenience: The reviewer expresses dissatisfaction with the inconvenience of having to undress their child multiple times due to the lack of a detachable sticker on the diaper.\n",
      "4. **Price Evaluation (Bool)**: Not explicitly mentioned in the review. However, the reviewer does not mention the price as a concern, which could be interpreted as an indication that they find the price acceptable.\n",
      "5. **Shipping Evaluation (Bool)**: Not explicitly mentioned in the review.\n",
      "6. **Return Process Evaluation (Bool)**: The reviewer mentions wanting a refund, but it's unclear if they went through the return process.\n",
      "7. **Mentions of Competing Products (Bool)**: True. The reviewer does not explicitly mention competing products, but they do compare the diaper to other Seventh Generation products, implying that they have experience with the brand's competitors. The sentiment towards other Seventh Generation products is positive, while the sentiment towards the reviewed product is negative.\n"
     ]
    }
   ],
   "execution_count": 58
  },
  {
   "metadata": {},
   "cell_type": "markdown",
   "source": "## 2.2 - Format answer",
   "id": "bdb559eeea53bfbd"
  },
  {
   "metadata": {
    "ExecuteTime": {
     "end_time": "2024-10-13T20:12:01.180903Z",
     "start_time": "2024-10-13T20:11:56.308399Z"
    }
   },
   "cell_type": "code",
   "source": [
    "format_insights_data = {\n",
    "    \"formatting_instructions\": format_insights_parser.get_format_instructions(),\n",
    "    \"llm_response\": review_llm_response\n",
    "}\n",
    "\n",
    "formatted_llm_response = format_insights_chain.invoke(\n",
    "    input=format_insights_data\n",
    ")"
   ],
   "id": "e63ed99443b67c86",
   "outputs": [],
   "execution_count": 61
  },
  {
   "metadata": {
    "ExecuteTime": {
     "end_time": "2024-10-13T20:12:05.613841Z",
     "start_time": "2024-10-13T20:12:05.611880Z"
    }
   },
   "cell_type": "code",
   "source": "print(formatted_llm_response)",
   "id": "88f61f9c5ab8058c",
   "outputs": [
    {
     "name": "stdout",
     "output_type": "stream",
     "text": [
      "{'safety_issues': [True, \"The review mentions a safety issue related to the diaper's ability to contain urine, which is a critical safety concern for diapers.\"], 'most_appreciated_features': ['Quality', \"The reviewer mentions that they believe the brand's quality is good, similar to other Seventh Generation products.\"], 'least_appreciated_features': ['Leakage', 'Convenience', 'The reviewer expresses dissatisfaction with the inconvenience of having to undress their child multiple times due to the lack of a detachable sticker on the diaper.'], 'price_evaluation': [None, 'However, the reviewer does not mention the price as a concern, which could be interpreted as an indication that they find the price acceptable.'], 'shipping_evaluation': [None], 'return_process_evaluation': [True, \"The reviewer mentions wanting a refund, but it's unclear if they went through the return process.\"], 'mentions_of_competing_products': [True, \"The reviewer does not explicitly mention competing products, but they do compare the diaper to other Seventh Generation products, implying that they have experience with the brand's competitors. The sentiment towards other Seventh Generation products is positive, while the sentiment towards the reviewed product is negative.\"]}\n"
     ]
    }
   ],
   "execution_count": 62
  },
  {
   "metadata": {},
   "cell_type": "markdown",
   "source": "By having a formatted answer, it is much easier for me to organize the further analysis and pattern matching. I have done a mix between classification and text generation. I can explain further if needed.",
   "id": "69e797ba99ef3ab1"
  },
  {
   "metadata": {},
   "cell_type": "markdown",
   "source": [
    "# Comments & Next Steps\n",
    "\n",
    "This was my first time working with this data, so I spent more time than expected getting familiar with it and the variables. \n",
    "Now, I’ll outline the next steps.\n",
    "\n",
    "What I've demonstrated here is a first MVP (minimum viable product) for extracting insights from the reviews. A few quick comments:\n",
    "\n",
    "- While the main prompt is *not bad*, it could be improved by incorporating product-specific information. \n",
    "  This would give the LLM more context and help it better understand what customers are referring to. \n",
    "  Extracting insights is primarily a summarization task (rather than reasoning-intensive), so it's not critical, but it would still be beneficial.\n",
    "  \n",
    "- If this analysis were to be extended to other categories, I would introduce more flexibility to the prompt. \n",
    "  A meta-prompt could be used to generate category-specific prompts.\n",
    "  \n",
    "- I didn’t have time to implement the second phase, which involves summarizing the insights from the reviews into a report for the Amazon seller. \n",
    "  At its core, this would require defining a new prompt. I would likely process this in batches since we’re dealing with potentially dozens of insights per product.\n",
    "  \n",
    "- I also didn’t have time to filter the most interesting reviews, which is a crucial step for the summarization phase.\n",
    "  \n",
    "- Since sellers may improve their products and address issues over time, I would take the date of the reviews into account when generating the final report \n",
    "  (i.e., focusing on specific time periods rather than using all reviews). \n",
    "  There's also potential here for an interesting analysis on how seller actions impact reviews over time.\n",
    "  \n",
    "- The exercise suggested analyzing patterns based on star ratings, which I agree is valuable; these insights will likely be of great interest to the seller.\n",
    "\n",
    "From an engineering standpoint, enhancing this MVP to address most of the points mentioned above shouldn’t be too complex; I just didn’t have the time. \n",
    "In a real-world scenario, I would also factor in execution time when refining the approach, as it might influence certain decisions."
   ],
   "id": "d7861e28780df525"
  }
 ],
 "metadata": {
  "kernelspec": {
   "display_name": "Python 3",
   "language": "python",
   "name": "python3"
  },
  "language_info": {
   "codemirror_mode": {
    "name": "ipython",
    "version": 2
   },
   "file_extension": ".py",
   "mimetype": "text/x-python",
   "name": "python",
   "nbconvert_exporter": "python",
   "pygments_lexer": "ipython2",
   "version": "2.7.6"
  }
 },
 "nbformat": 4,
 "nbformat_minor": 5
}
